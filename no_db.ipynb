{
 "cells": [
  {
   "cell_type": "code",
   "execution_count": null,
   "metadata": {},
   "outputs": [],
   "source": [
    "from langchain import HuggingFacePipeline\n",
    "from transformers import AutoTokenizer, pipeline\n",
    "import torch\n",
    "from langchain import PromptTemplate, LLMChain\n",
    "from pprint import pprint"
   ]
  },
  {
   "cell_type": "code",
   "execution_count": null,
   "metadata": {},
   "outputs": [],
   "source": [
    "# model = \"tiiuae/falcon-7b-instruct\" # heavily sensored\n",
    "# model = \"meta-llama/Llama-2-7b-chat-hf\"\n",
    "model = \"georgesung/llama2_7b_chat_uncensored\"\n",
    "# model = \"Open-Orca/Mistral-7B-OpenOrca\" # CHECK THIS ONE OUT - NEEDS SPECIAL SETUP\n",
    "# model = \"meta-llama/Llama-2-13b-chat-hf\"\n",
    "# model = \"h2oai/h2ogpt-gm-oasst1-en-2048-falcon-40b-v2\" #something is going wrong\n",
    "# model = \"h2oai/h2ogpt-gm-oasst1-en-2048-falcon-7b-v3\"\n",
    "tokenizer = AutoTokenizer.from_pretrained(\n",
    "    model,\n",
    "    padding_side=\"left\",\n",
    "    use_fast=False,\n",
    "\n",
    ")"
   ]
  },
  {
   "cell_type": "code",
   "execution_count": null,
   "metadata": {},
   "outputs": [],
   "source": [
    "pipeline = pipeline(\n",
    "    \"text-generation\",\n",
    "    model=model,\n",
    "    tokenizer=tokenizer,\n",
    "    torch_dtype=torch.bfloat16,\n",
    "    trust_remote_code=True,\n",
    "    device_map=\"auto\",\n",
    "    # model_kwargs=model_kwargs,\n",
    "    min_new_tokens=100,\n",
    "    max_length=2048,\n",
    "    do_sample=True,\n",
    "    top_k=6,\n",
    "    num_return_sequences=1,\n",
    "    eos_token_id=tokenizer.eos_token_id,\n",
    "\n",
    ")"
   ]
  },
  {
   "cell_type": "code",
   "execution_count": null,
   "metadata": {},
   "outputs": [],
   "source": [
    "llm = HuggingFacePipeline(pipeline=pipeline, model_kwargs={'temperature':50, 'repetition_penalty':35})\n",
    "template = \"\"\"\n",
    "### HUMAN\n",
    "Answer the following question with complete honesty:\n",
    "{question}\n",
    "\n",
    "### Response\n",
    "\"\"\"\n",
    "\n",
    "prompt = PromptTemplate(\n",
    "    template=template,\n",
    "    input_variables=[\"question\"]\n",
    ")\n",
    "\n",
    "llm_chain = LLMChain(\n",
    "    prompt=prompt,\n",
    "    llm=llm\n",
    "    )\n",
    "question = \"\"\"\n",
    "question\n",
    "\"\"\"\n",
    "\n",
    "response = llm_chain.run(question)\n",
    "pprint(response)"
   ]
  },
  {
   "cell_type": "code",
   "execution_count": null,
   "metadata": {},
   "outputs": [],
   "source": [
    "len(response.split())"
   ]
  },
  {
   "cell_type": "code",
   "execution_count": null,
   "metadata": {},
   "outputs": [],
   "source": [
    "x = 5\n",
    "test = f\"\"\"testing {x}\"\"\"\n",
    "print(test)"
   ]
  },
  {
   "cell_type": "markdown",
   "metadata": {},
   "source": [
    "https://www.youtube.com/watch?v=X550Zbz_ROE&ab_channel=SamWitteveen"
   ]
  }
 ],
 "metadata": {
  "kernelspec": {
   "display_name": "Python 3",
   "language": "python",
   "name": "python3"
  },
  "language_info": {
   "codemirror_mode": {
    "name": "ipython",
    "version": 3
   },
   "file_extension": ".py",
   "mimetype": "text/x-python",
   "name": "python",
   "nbconvert_exporter": "python",
   "pygments_lexer": "ipython3",
   "version": "3.11.3"
  },
  "orig_nbformat": 4
 },
 "nbformat": 4,
 "nbformat_minor": 2
}
